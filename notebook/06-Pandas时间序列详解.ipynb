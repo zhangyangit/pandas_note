{
 "cells": [
  {
   "cell_type": "markdown",
   "metadata": {},
   "source": [
    "> 教你学会 Pandas 不是我的目的，**教你轻松玩转 Pandas 才是我的目的**。我会通过一系列实例来带入 Pandas 的知识点，让你在学习 Pandas 的路上不再枯燥。\n",
    "\n",
    "> 声明：我所写的**轻松玩转 Pandas 教程都是免费的**，如果对你有帮助，你可以持续关注我。\n",
    "\n",
    "在 [05-Pandas分类数据详解](05-Pandas分类数据详解.ipynb) 介绍了使用 Pandas 中分类（category）数据的处理，这节来看下如何如何处理日期与时间序列吧。"
   ]
  },
  {
   "cell_type": "code",
   "execution_count": 1,
   "metadata": {
    "ExecuteTime": {
     "end_time": "2018-07-09T12:56:36.679890Z",
     "start_time": "2018-07-09T12:56:36.674877Z"
    },
    "collapsed": true
   },
   "outputs": [],
   "source": [
    "# 导入相关库\n",
    "import numpy as np\n",
    "import pandas as pd"
   ]
  },
  {
   "cell_type": "markdown",
   "metadata": {},
   "source": [
    "在做金融领域方面的分析时，经常会对时间进行一系列的处理。Pandas 内部自带了很多关于时间序列相关的工具，所以它非常适合处理时间序列。在处理时间序列的的过程中，我们经常会去做以下一些任务：\n",
    "\n",
    "- 生成固定频率日期和时间跨度的序列\n",
    "- 将时间序列整合或转换为特定频率\n",
    "- 基于各种非标准时间增量（例如，在一年的最后一个工作日之前的5个工作日）计算“相对”日期，或向前或向后“滚动”日期\n",
    "\n",
    "使用 Pandas 可以轻松完成以上任务。\n",
    "\n",
    "## 基础概述\n",
    "\n",
    "下面列出了 Pandas中 和时间日期相关常用的类以及创建方法。\n",
    "\n",
    "|类|备注|创建方法|\n",
    "|:--:|:--:|:--:|\n",
    "|Timestamp|时刻数据|to_datetime，Timestamp|\n",
    "|DatetimeIndex|Timestamp的索引|to_datetime，date_range，DatetimeIndex|\n",
    "|Period|时期数据|Period|\n",
    "|PeriodIndex|Period|period_range，PeriodIndex|\n",
    "\n",
    "Pandas 中关于时间序列最常见的类型就是时间戳（`Timestamp`）了，创建时间戳的方法有很多种，我们分别来看一看。"
   ]
  },
  {
   "cell_type": "code",
   "execution_count": 2,
   "metadata": {
    "ExecuteTime": {
     "end_time": "2018-07-09T12:56:36.742056Z",
     "start_time": "2018-07-09T12:56:36.688915Z"
    }
   },
   "outputs": [
    {
     "data": {
      "text/plain": [
       "Timestamp('2018-05-21 00:00:00')"
      ]
     },
     "execution_count": 2,
     "metadata": {},
     "output_type": "execute_result"
    }
   ],
   "source": [
    "pd.Timestamp(2018, 5, 21)"
   ]
  },
  {
   "cell_type": "code",
   "execution_count": 3,
   "metadata": {
    "ExecuteTime": {
     "end_time": "2018-07-09T12:56:36.784167Z",
     "start_time": "2018-07-09T12:56:36.746066Z"
    }
   },
   "outputs": [
    {
     "data": {
      "text/plain": [
       "Timestamp('2018-05-21 00:00:00')"
      ]
     },
     "execution_count": 3,
     "metadata": {},
     "output_type": "execute_result"
    }
   ],
   "source": [
    "pd.Timestamp(\"2018-5-21\")"
   ]
  },
  {
   "cell_type": "markdown",
   "metadata": {},
   "source": [
    "除了时间戳之外，另一个常见的结构是时间跨度（`Period`）。"
   ]
  },
  {
   "cell_type": "code",
   "execution_count": 4,
   "metadata": {
    "ExecuteTime": {
     "end_time": "2018-07-09T12:56:36.819260Z",
     "start_time": "2018-07-09T12:56:36.790184Z"
    }
   },
   "outputs": [
    {
     "data": {
      "text/plain": [
       "Period('2018-01', 'M')"
      ]
     },
     "execution_count": 4,
     "metadata": {},
     "output_type": "execute_result"
    }
   ],
   "source": [
    "pd.Period(\"2018-01\")"
   ]
  },
  {
   "cell_type": "code",
   "execution_count": 5,
   "metadata": {
    "ExecuteTime": {
     "end_time": "2018-07-09T12:56:36.851346Z",
     "start_time": "2018-07-09T12:56:36.825277Z"
    }
   },
   "outputs": [
    {
     "data": {
      "text/plain": [
       "Period('2018-05-01', 'D')"
      ]
     },
     "execution_count": 5,
     "metadata": {},
     "output_type": "execute_result"
    }
   ],
   "source": [
    "pd.Period(\"2018-05\", freq=\"D\")"
   ]
  },
  {
   "cell_type": "markdown",
   "metadata": {},
   "source": [
    "`Timestamp` 和 `Period` 可以是索引。将`Timestamp` 和 `Period` 作为 `Series` 或 `DataFrame` 的索引后会自动强制转为为 `DatetimeIndex` 和 `PeriodIndex`。"
   ]
  },
  {
   "cell_type": "code",
   "execution_count": 6,
   "metadata": {
    "ExecuteTime": {
     "end_time": "2018-07-09T12:56:36.886440Z",
     "start_time": "2018-07-09T12:56:36.855358Z"
    }
   },
   "outputs": [
    {
     "data": {
      "text/plain": [
       "DatetimeIndex(['2018-05-01', '2018-05-02', '2018-05-03', '2018-05-04'], dtype='datetime64[ns]', freq=None)"
      ]
     },
     "execution_count": 6,
     "metadata": {},
     "output_type": "execute_result"
    }
   ],
   "source": [
    "dates = [pd.Timestamp(\"2018-05-01\"), pd.Timestamp(\"2018-05-02\"), pd.Timestamp(\"2018-05-03\"), pd.Timestamp(\"2018-05-04\")]\n",
    "\n",
    "ts = pd.Series(data=[\"Tom\", \"Bob\", \"Mary\", \"James\"], index=dates)\n",
    "ts.index"
   ]
  },
  {
   "cell_type": "code",
   "execution_count": 7,
   "metadata": {
    "ExecuteTime": {
     "end_time": "2018-07-09T12:56:36.942589Z",
     "start_time": "2018-07-09T12:56:36.889448Z"
    }
   },
   "outputs": [
    {
     "data": {
      "text/plain": [
       "PeriodIndex(['2018-01', '2018-02', '2018-03', '2018-04'], dtype='period[M]', freq='M')"
      ]
     },
     "execution_count": 7,
     "metadata": {},
     "output_type": "execute_result"
    }
   ],
   "source": [
    "periods = [pd.Period(\"2018-01\"), pd.Period(\"2018-02\"), pd.Period(\"2018-03\"), pd.Period(\"2018-4\")]\n",
    "\n",
    "ts = pd.Series(data=[\"Tom\", \"Bob\", \"Mary\", \"James\"], index=periods)\n",
    "ts.index"
   ]
  },
  {
   "cell_type": "markdown",
   "metadata": {},
   "source": [
    "## 转换时间戳\n",
    "\n",
    "你可能会想到，我们经常要和文本数据（字符串）打交道，能否快速将文本数据转为时间戳呢？\n",
    "\n",
    "答案是可以的，通过 `to_datetime` 能快速将字符串转换为时间戳。当传递一个Series时，它会返回一个Series（具有相同的索引），而类似列表的则转换为`DatetimeIndex`。"
   ]
  },
  {
   "cell_type": "code",
   "execution_count": 8,
   "metadata": {
    "ExecuteTime": {
     "end_time": "2018-07-09T12:56:36.976681Z",
     "start_time": "2018-07-09T12:56:36.947603Z"
    }
   },
   "outputs": [
    {
     "data": {
      "text/plain": [
       "0   2018-07-31\n",
       "1   2018-05-10\n",
       "2          NaT\n",
       "dtype: datetime64[ns]"
      ]
     },
     "execution_count": 8,
     "metadata": {},
     "output_type": "execute_result"
    }
   ],
   "source": [
    "pd.to_datetime(pd.Series([\"Jul 31, 2018\", \"2018-05-10\", None]))"
   ]
  },
  {
   "cell_type": "code",
   "execution_count": 9,
   "metadata": {
    "ExecuteTime": {
     "end_time": "2018-07-09T12:56:37.014782Z",
     "start_time": "2018-07-09T12:56:36.979688Z"
    }
   },
   "outputs": [
    {
     "data": {
      "text/plain": [
       "DatetimeIndex(['2005-11-23', '2010-12-31'], dtype='datetime64[ns]', freq=None)"
      ]
     },
     "execution_count": 9,
     "metadata": {},
     "output_type": "execute_result"
    }
   ],
   "source": [
    "pd.to_datetime([\"2005/11/23\", \"2010.12.31\"])"
   ]
  },
  {
   "cell_type": "markdown",
   "metadata": {},
   "source": [
    "除了可以将文本数据转为时间戳外，还可以将 unix 时间转为时间戳。"
   ]
  },
  {
   "cell_type": "code",
   "execution_count": 10,
   "metadata": {
    "ExecuteTime": {
     "end_time": "2018-07-09T12:56:37.090985Z",
     "start_time": "2018-07-09T12:56:37.017789Z"
    }
   },
   "outputs": [
    {
     "data": {
      "text/plain": [
       "DatetimeIndex(['2012-10-08 18:15:05', '2012-10-09 18:15:05',\n",
       "               '2012-10-10 18:15:05'],\n",
       "              dtype='datetime64[ns]', freq=None)"
      ]
     },
     "execution_count": 10,
     "metadata": {},
     "output_type": "execute_result"
    }
   ],
   "source": [
    "pd.to_datetime([1349720105, 1349806505, 1349892905], unit=\"s\")"
   ]
  },
  {
   "cell_type": "code",
   "execution_count": 11,
   "metadata": {
    "ExecuteTime": {
     "end_time": "2018-07-09T12:56:37.126081Z",
     "start_time": "2018-07-09T12:56:37.094995Z"
    }
   },
   "outputs": [
    {
     "data": {
      "text/plain": [
       "DatetimeIndex(['2012-10-08 18:15:05.100000', '2012-10-08 18:15:05.200000',\n",
       "               '2012-10-08 18:15:05.300000'],\n",
       "              dtype='datetime64[ns]', freq=None)"
      ]
     },
     "execution_count": 11,
     "metadata": {},
     "output_type": "execute_result"
    }
   ],
   "source": [
    "pd.to_datetime([1349720105100, 1349720105200, 1349720105300], unit=\"ms\")"
   ]
  },
  {
   "cell_type": "markdown",
   "metadata": {
    "collapsed": true
   },
   "source": [
    "## 生成时间戳范围\n",
    "\n",
    "有时候，我们可能想要生成某个范围内的时间戳。例如，我想要生成 \"2018-6-26\" 这一天之后的8天时间戳，如何完成呢？我们可以使用 `date_range` 和 `bdate_range` 来完成时间戳范围的生成。"
   ]
  },
  {
   "cell_type": "code",
   "execution_count": 12,
   "metadata": {
    "ExecuteTime": {
     "end_time": "2018-07-09T12:56:37.163176Z",
     "start_time": "2018-07-09T12:56:37.133097Z"
    }
   },
   "outputs": [
    {
     "data": {
      "text/plain": [
       "DatetimeIndex(['2018-06-26', '2018-06-27', '2018-06-28', '2018-06-29',\n",
       "               '2018-06-30', '2018-07-01', '2018-07-02', '2018-07-03'],\n",
       "              dtype='datetime64[ns]', freq='D')"
      ]
     },
     "execution_count": 12,
     "metadata": {},
     "output_type": "execute_result"
    }
   ],
   "source": [
    "pd.date_range(\"2018-6-26\", periods=8)"
   ]
  },
  {
   "cell_type": "code",
   "execution_count": 13,
   "metadata": {
    "ExecuteTime": {
     "end_time": "2018-07-09T12:56:37.216317Z",
     "start_time": "2018-07-09T12:56:37.167187Z"
    }
   },
   "outputs": [
    {
     "data": {
      "text/plain": [
       "DatetimeIndex(['2018-06-26', '2018-06-27', '2018-06-28', '2018-06-29',\n",
       "               '2018-07-02', '2018-07-03', '2018-07-04', '2018-07-05'],\n",
       "              dtype='datetime64[ns]', freq='B')"
      ]
     },
     "execution_count": 13,
     "metadata": {},
     "output_type": "execute_result"
    }
   ],
   "source": [
    "pd.bdate_range(\"2018-6-26\", periods=8)"
   ]
  },
  {
   "cell_type": "markdown",
   "metadata": {},
   "source": [
    "可以看出，`date_range` 默认使用的频率是 **日历日**，而 `bdate_range` 默认使用的频率是 **营业日**。当然了，我们可以自己指定频率，比如，我们可以按周来生成时间戳范围。"
   ]
  },
  {
   "cell_type": "code",
   "execution_count": 14,
   "metadata": {
    "ExecuteTime": {
     "end_time": "2018-07-09T12:56:37.245395Z",
     "start_time": "2018-07-09T12:56:37.220328Z"
    }
   },
   "outputs": [
    {
     "data": {
      "text/plain": [
       "DatetimeIndex(['2018-07-01', '2018-07-08', '2018-07-15', '2018-07-22',\n",
       "               '2018-07-29', '2018-08-05', '2018-08-12', '2018-08-19'],\n",
       "              dtype='datetime64[ns]', freq='W-SUN')"
      ]
     },
     "execution_count": 14,
     "metadata": {},
     "output_type": "execute_result"
    }
   ],
   "source": [
    "pd.date_range(\"2018-6-26\", periods=8, freq=\"W\")"
   ]
  },
  {
   "cell_type": "markdown",
   "metadata": {},
   "source": [
    "## DatetimeIndex \n",
    "\n",
    "`DatetimeIndex` 的主要作用是之一是用作 Pandas 对象的索引，使用它作为索引除了拥有普通索引对象的所有基本功能外，还拥有简化频率处理的高级时间序列方法。"
   ]
  },
  {
   "cell_type": "code",
   "execution_count": 15,
   "metadata": {
    "ExecuteTime": {
     "end_time": "2018-07-09T12:56:37.290515Z",
     "start_time": "2018-07-09T12:56:37.250408Z"
    }
   },
   "outputs": [
    {
     "data": {
      "text/plain": [
       "2018-06-24    0\n",
       "2018-07-01    1\n",
       "2018-07-08    2\n",
       "2018-07-15    3\n",
       "Freq: W-SUN, dtype: int32"
      ]
     },
     "execution_count": 15,
     "metadata": {},
     "output_type": "execute_result"
    }
   ],
   "source": [
    "rng = pd.date_range(\"2018-6-24\", periods=4, freq=\"W\")\n",
    "ts = pd.Series(range(len(rng)), index=rng)\n",
    "ts"
   ]
  },
  {
   "cell_type": "code",
   "execution_count": 16,
   "metadata": {
    "ExecuteTime": {
     "end_time": "2018-07-09T12:56:37.322600Z",
     "start_time": "2018-07-09T12:56:37.293525Z"
    }
   },
   "outputs": [
    {
     "data": {
      "text/plain": [
       "2"
      ]
     },
     "execution_count": 16,
     "metadata": {},
     "output_type": "execute_result"
    }
   ],
   "source": [
    "# 通过日期访问数据\n",
    "ts[\"2018-07-08\"]"
   ]
  },
  {
   "cell_type": "code",
   "execution_count": 17,
   "metadata": {
    "ExecuteTime": {
     "end_time": "2018-07-09T12:56:37.359698Z",
     "start_time": "2018-07-09T12:56:37.325608Z"
    }
   },
   "outputs": [
    {
     "data": {
      "text/plain": [
       "2018-07-08    2\n",
       "2018-07-15    3\n",
       "Freq: W-SUN, dtype: int32"
      ]
     },
     "execution_count": 17,
     "metadata": {},
     "output_type": "execute_result"
    }
   ],
   "source": [
    "# 通过日期区间访问数据切片\n",
    "ts[\"2018-07-08\": \"2018-07-22\"]"
   ]
  },
  {
   "cell_type": "markdown",
   "metadata": {},
   "source": [
    "除了可以将日期作为参数，还可以将年份或者年份、月份作为参数来获取更多的数据。"
   ]
  },
  {
   "cell_type": "code",
   "execution_count": 18,
   "metadata": {
    "ExecuteTime": {
     "end_time": "2018-07-09T12:56:37.410835Z",
     "start_time": "2018-07-09T12:56:37.365714Z"
    }
   },
   "outputs": [
    {
     "data": {
      "text/plain": [
       "2018-06-24    0\n",
       "2018-07-01    1\n",
       "2018-07-08    2\n",
       "2018-07-15    3\n",
       "Freq: W-SUN, dtype: int32"
      ]
     },
     "execution_count": 18,
     "metadata": {},
     "output_type": "execute_result"
    }
   ],
   "source": [
    "# 传入年份\n",
    "ts[\"2018\"]"
   ]
  },
  {
   "cell_type": "code",
   "execution_count": 19,
   "metadata": {
    "ExecuteTime": {
     "end_time": "2018-07-09T12:56:37.458963Z",
     "start_time": "2018-07-09T12:56:37.417854Z"
    }
   },
   "outputs": [
    {
     "data": {
      "text/plain": [
       "2018-07-01    1\n",
       "2018-07-08    2\n",
       "2018-07-15    3\n",
       "Freq: W-SUN, dtype: int32"
      ]
     },
     "execution_count": 19,
     "metadata": {},
     "output_type": "execute_result"
    }
   ],
   "source": [
    "# 传入年份和月份\n",
    "ts[\"2018-07\"]"
   ]
  },
  {
   "cell_type": "markdown",
   "metadata": {},
   "source": [
    "除了可以使用字符串对 `DateTimeIndex` 进行索引外，还可以使用 `datetime`（日期时间）对象来进行索引。"
   ]
  },
  {
   "cell_type": "code",
   "execution_count": 20,
   "metadata": {
    "ExecuteTime": {
     "end_time": "2018-07-09T12:56:37.499070Z",
     "start_time": "2018-07-09T12:56:37.462974Z"
    }
   },
   "outputs": [
    {
     "data": {
      "text/plain": [
       "2018-07-08    2\n",
       "2018-07-15    3\n",
       "Freq: W-SUN, dtype: int32"
      ]
     },
     "execution_count": 20,
     "metadata": {},
     "output_type": "execute_result"
    }
   ],
   "source": [
    "from datetime import datetime\n",
    "\n",
    "ts[datetime(2018, 7, 8) : datetime(2018, 7, 22)]"
   ]
  },
  {
   "cell_type": "markdown",
   "metadata": {},
   "source": [
    "我们可以通过 `Timestamp` 或 `DateTimeIndex` 访问一些时间/日期的属性。这里列举一些常见的，想要查看所有的属性见官方链接：[Time/Date Components](http://pandas.pydata.org/pandas-docs/stable/timeseries.html#time-date-components)"
   ]
  },
  {
   "cell_type": "code",
   "execution_count": 21,
   "metadata": {
    "ExecuteTime": {
     "end_time": "2018-07-09T12:56:37.524136Z",
     "start_time": "2018-07-09T12:56:37.504083Z"
    }
   },
   "outputs": [
    {
     "data": {
      "text/plain": [
       "Int64Index([2018, 2018, 2018, 2018], dtype='int64')"
      ]
     },
     "execution_count": 21,
     "metadata": {},
     "output_type": "execute_result"
    }
   ],
   "source": [
    "# 获取年份\n",
    "ts.index.year"
   ]
  },
  {
   "cell_type": "code",
   "execution_count": 22,
   "metadata": {
    "ExecuteTime": {
     "end_time": "2018-07-09T12:56:37.548200Z",
     "start_time": "2018-07-09T12:56:37.529150Z"
    }
   },
   "outputs": [
    {
     "data": {
      "text/plain": [
       "Int64Index([6, 6, 6, 6], dtype='int64')"
      ]
     },
     "execution_count": 22,
     "metadata": {},
     "output_type": "execute_result"
    }
   ],
   "source": [
    "# 获取星期几\n",
    "ts.index.dayofweek"
   ]
  },
  {
   "cell_type": "code",
   "execution_count": 23,
   "metadata": {
    "ExecuteTime": {
     "end_time": "2018-07-09T12:56:37.573267Z",
     "start_time": "2018-07-09T12:56:37.553214Z"
    }
   },
   "outputs": [
    {
     "data": {
      "text/plain": [
       "Int64Index([25, 26, 27, 28], dtype='int64')"
      ]
     },
     "execution_count": 23,
     "metadata": {},
     "output_type": "execute_result"
    }
   ],
   "source": [
    "# 获取一年中的几个第几个星期\n",
    "ts.index.weekofyear"
   ]
  },
  {
   "cell_type": "markdown",
   "metadata": {
    "collapsed": true
   },
   "source": [
    "## DateOffset对象\n",
    "\n",
    "`DateOffset` 从名称中就可以看出来是要做日期偏移的，它的参数与 `dateutil.relativedelta` 基本相同，工作方式如下："
   ]
  },
  {
   "cell_type": "code",
   "execution_count": 24,
   "metadata": {
    "ExecuteTime": {
     "end_time": "2018-07-09T12:56:37.619390Z",
     "start_time": "2018-07-09T12:56:37.577277Z"
    }
   },
   "outputs": [
    {
     "data": {
      "text/plain": [
       "Timestamp('2018-07-14 00:00:00')"
      ]
     },
     "execution_count": 24,
     "metadata": {},
     "output_type": "execute_result"
    }
   ],
   "source": [
    "from pandas.tseries.offsets import *\n",
    "\n",
    "d = pd.Timestamp(\"2018-06-25\")\n",
    "\n",
    "d + DateOffset(weeks=2, days=5)"
   ]
  },
  {
   "cell_type": "markdown",
   "metadata": {},
   "source": [
    "除了可以使用 `DateOffset` 完成上面的功能外，还可以使用偏移量实例来完成。"
   ]
  },
  {
   "cell_type": "code",
   "execution_count": 25,
   "metadata": {
    "ExecuteTime": {
     "end_time": "2018-07-09T12:56:37.651475Z",
     "start_time": "2018-07-09T12:56:37.622398Z"
    }
   },
   "outputs": [
    {
     "data": {
      "text/plain": [
       "Timestamp('2018-07-14 00:00:00')"
      ]
     },
     "execution_count": 25,
     "metadata": {},
     "output_type": "execute_result"
    }
   ],
   "source": [
    "d + Week(2) + Day(5)"
   ]
  },
  {
   "cell_type": "markdown",
   "metadata": {},
   "source": [
    "## 与时间序列相关的方法\n",
    "\n",
    "在做时间序列相关的工作时，经常要对时间做一些移动/滞后、频率转换、采样等相关操作，我们来看下这些操作如何使用吧。\n",
    "\n",
    "### 移动\n",
    "\n",
    "如果你想移动或滞后时间序列，你可以使用 `shift` 方法。"
   ]
  },
  {
   "cell_type": "code",
   "execution_count": 26,
   "metadata": {
    "ExecuteTime": {
     "end_time": "2018-07-09T12:56:37.694590Z",
     "start_time": "2018-07-09T12:56:37.655485Z"
    }
   },
   "outputs": [
    {
     "data": {
      "text/plain": [
       "2018-06-24    NaN\n",
       "2018-07-01    NaN\n",
       "2018-07-08    0.0\n",
       "2018-07-15    1.0\n",
       "Freq: W-SUN, dtype: float64"
      ]
     },
     "execution_count": 26,
     "metadata": {},
     "output_type": "execute_result"
    }
   ],
   "source": [
    "ts.shift(2)"
   ]
  },
  {
   "cell_type": "markdown",
   "metadata": {},
   "source": [
    "可以看到，Series 所有的值都都移动了 2 个距离。如果不想移动值，而是移动日期索引，可以使用 `freq` 参数，它可以接受一个 `DateOffset` 类或其他 `timedelta` 类对象或一个 offset 别名（所有别名详细介绍见：[Offset Aliases](http://pandas.pydata.org/pandas-docs/stable/timeseries.html#offset-aliases)）。"
   ]
  },
  {
   "cell_type": "code",
   "execution_count": 27,
   "metadata": {
    "ExecuteTime": {
     "end_time": "2018-07-09T12:56:37.741716Z",
     "start_time": "2018-07-09T12:56:37.700606Z"
    }
   },
   "outputs": [
    {
     "data": {
      "text/plain": [
       "2018-06-26    0\n",
       "2018-07-03    1\n",
       "2018-07-10    2\n",
       "2018-07-17    3\n",
       "Freq: W-TUE, dtype: int32"
      ]
     },
     "execution_count": 27,
     "metadata": {},
     "output_type": "execute_result"
    }
   ],
   "source": [
    "ts.shift(2, freq=Day())"
   ]
  },
  {
   "cell_type": "markdown",
   "metadata": {},
   "source": [
    "可以看到，现在日期索引移动了 2 天的间隔。通过 `tshift` 同样可以达到相同的效果。"
   ]
  },
  {
   "cell_type": "code",
   "execution_count": 28,
   "metadata": {
    "ExecuteTime": {
     "end_time": "2018-07-09T12:56:37.785833Z",
     "start_time": "2018-07-09T12:56:37.745726Z"
    }
   },
   "outputs": [
    {
     "data": {
      "text/plain": [
       "2018-06-26    0\n",
       "2018-07-03    1\n",
       "2018-07-10    2\n",
       "2018-07-17    3\n",
       "Freq: W-TUE, dtype: int32"
      ]
     },
     "execution_count": 28,
     "metadata": {},
     "output_type": "execute_result"
    }
   ],
   "source": [
    "ts.tshift(2, freq=Day())"
   ]
  },
  {
   "cell_type": "markdown",
   "metadata": {},
   "source": [
    "### 频率转换\n",
    "\n",
    "频率转换可以使用 `asfreq` 函数来实现。下面演示了将频率由周转为了天。"
   ]
  },
  {
   "cell_type": "code",
   "execution_count": 29,
   "metadata": {
    "ExecuteTime": {
     "end_time": "2018-07-09T12:56:37.842985Z",
     "start_time": "2018-07-09T12:56:37.795865Z"
    }
   },
   "outputs": [
    {
     "data": {
      "text/plain": [
       "2018-06-24    0.0\n",
       "2018-06-25    NaN\n",
       "2018-06-26    NaN\n",
       "2018-06-27    NaN\n",
       "2018-06-28    NaN\n",
       "2018-06-29    NaN\n",
       "2018-06-30    NaN\n",
       "2018-07-01    1.0\n",
       "2018-07-02    NaN\n",
       "2018-07-03    NaN\n",
       "2018-07-04    NaN\n",
       "2018-07-05    NaN\n",
       "2018-07-06    NaN\n",
       "2018-07-07    NaN\n",
       "2018-07-08    2.0\n",
       "2018-07-09    NaN\n",
       "2018-07-10    NaN\n",
       "2018-07-11    NaN\n",
       "2018-07-12    NaN\n",
       "2018-07-13    NaN\n",
       "2018-07-14    NaN\n",
       "2018-07-15    3.0\n",
       "Freq: D, dtype: float64"
      ]
     },
     "execution_count": 29,
     "metadata": {},
     "output_type": "execute_result"
    }
   ],
   "source": [
    "ts.asfreq(Day())"
   ]
  },
  {
   "cell_type": "markdown",
   "metadata": {},
   "source": [
    "聪明的你会发现出现了缺失值，因此 Pandas 为你提供了 `method` 参数来填充缺失值。几种不同的填充方法参考[Pandas 缺失值处理中 `fillna` 介绍](03-Pandas缺失值处理.ipynb#填充缺失值)。"
   ]
  },
  {
   "cell_type": "code",
   "execution_count": 30,
   "metadata": {
    "ExecuteTime": {
     "end_time": "2018-07-09T12:56:37.887102Z",
     "start_time": "2018-07-09T12:56:37.850003Z"
    }
   },
   "outputs": [
    {
     "data": {
      "text/plain": [
       "2018-06-24    0\n",
       "2018-06-25    0\n",
       "2018-06-26    0\n",
       "2018-06-27    0\n",
       "2018-06-28    0\n",
       "2018-06-29    0\n",
       "2018-06-30    0\n",
       "2018-07-01    1\n",
       "2018-07-02    1\n",
       "2018-07-03    1\n",
       "2018-07-04    1\n",
       "2018-07-05    1\n",
       "2018-07-06    1\n",
       "2018-07-07    1\n",
       "2018-07-08    2\n",
       "2018-07-09    2\n",
       "2018-07-10    2\n",
       "2018-07-11    2\n",
       "2018-07-12    2\n",
       "2018-07-13    2\n",
       "2018-07-14    2\n",
       "2018-07-15    3\n",
       "Freq: D, dtype: int32"
      ]
     },
     "execution_count": 30,
     "metadata": {},
     "output_type": "execute_result"
    }
   ],
   "source": [
    "ts.asfreq(Day(), method=\"pad\")"
   ]
  },
  {
   "cell_type": "markdown",
   "metadata": {},
   "source": [
    "### 重采样\n",
    "\n",
    "`resample` 表示根据日期维度进行数据聚合，可以按照分钟、小时、工作日、周、月、年等来作为日期维度，更多的日期维度见 [Offset Aliases](http://pandas.pydata.org/pandas-docs/stable/timeseries.html#offset-aliases)。\n",
    "\n",
    "这里我们先以月来作为时间维度来进行聚合。"
   ]
  },
  {
   "cell_type": "code",
   "execution_count": 31,
   "metadata": {
    "ExecuteTime": {
     "end_time": "2018-07-09T12:56:37.960297Z",
     "start_time": "2018-07-09T12:56:37.890110Z"
    }
   },
   "outputs": [
    {
     "data": {
      "text/plain": [
       "2018-06-30    0\n",
       "2018-07-31    6\n",
       "Freq: M, dtype: int32"
      ]
     },
     "execution_count": 31,
     "metadata": {},
     "output_type": "execute_result"
    }
   ],
   "source": [
    "# 求出每个月的数值之和\n",
    "ts.resample(\"1M\").sum()"
   ]
  },
  {
   "cell_type": "code",
   "execution_count": 32,
   "metadata": {
    "ExecuteTime": {
     "end_time": "2018-07-09T12:56:37.996393Z",
     "start_time": "2018-07-09T12:56:37.967316Z"
    }
   },
   "outputs": [
    {
     "data": {
      "text/plain": [
       "2018-06-30    0\n",
       "2018-07-31    2\n",
       "Freq: M, dtype: int32"
      ]
     },
     "execution_count": 32,
     "metadata": {},
     "output_type": "execute_result"
    }
   ],
   "source": [
    "# 求出每个月的数值平均值\n",
    "ts.resample(\"1M\").mean()"
   ]
  },
  {
   "cell_type": "markdown",
   "metadata": {
    "ExecuteTime": {
     "end_time": "2018-06-25T12:13:57.621540Z",
     "start_time": "2018-06-25T12:13:57.613519Z"
    }
   },
   "source": [
    "------------\n",
    "\n",
    "\n",
    "想要学习更多关于人工智能的知识，请关注公众号：**AI派**\n",
    "\n",
    "![qrcode_for_gh_60cef389e81c_258.jpg](http://www.naodongopen.com/wp-content/uploads/2018/06/qrcode_for_gh_60cef389e81c_258.jpg)\n",
    "\n",
    "这里我将整篇文章的内容整理成了pdf，想要pdf文件的可以在公众号后台回复关键字：**pandas**。"
   ]
  }
 ],
 "metadata": {
  "kernelspec": {
   "display_name": "Python 3",
   "language": "python",
   "name": "python3"
  },
  "language_info": {
   "codemirror_mode": {
    "name": "ipython",
    "version": 3
   },
   "file_extension": ".py",
   "mimetype": "text/x-python",
   "name": "python",
   "nbconvert_exporter": "python",
   "pygments_lexer": "ipython3",
   "version": "3.6.4"
  }
 },
 "nbformat": 4,
 "nbformat_minor": 2
}
