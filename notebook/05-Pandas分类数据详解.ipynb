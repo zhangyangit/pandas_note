{
 "cells": [
  {
   "cell_type": "markdown",
   "metadata": {},
   "source": [
    "> 教你学会 Pandas 不是我的目的，**教你轻松玩转 Pandas 才是我的目的**。我会通过一系列实例来带入 Pandas 的知识点，让你在学习 Pandas 的路上不再枯燥。\n",
    "\n",
    "> 声明：我所写的**轻松玩转 Pandas 教程都是免费的**，如果对你有帮助，你可以持续关注我。\n",
    "\n",
    "\n",
    "在 [04-Pandas文本数据处理](04-Pandas文本数据处理.ipynb) 介绍了使用 Pandas 处理文本（字符串）数据，这节来看下分类（category）数据如何处理吧。"
   ]
  },
  {
   "cell_type": "code",
   "execution_count": 1,
   "metadata": {
    "ExecuteTime": {
     "end_time": "2018-07-09T12:59:16.683902Z",
     "start_time": "2018-07-09T12:59:16.679891Z"
    },
    "collapsed": true
   },
   "outputs": [],
   "source": [
    "# 导入相关库\n",
    "import numpy as np\n",
    "import pandas as pd"
   ]
  },
  {
   "cell_type": "markdown",
   "metadata": {},
   "source": [
    "## 创建对象\n",
    "\n",
    "在创建分类数据之前，先来了解下什么是分类（Category）数据呢？分类数据直白来说就是取值为有限的，或者说是固定数量的可能值。例如：性别、血型。 \n",
    "\n",
    "这里以血型为例，假定每个用户有以下的血型，我们如何创建一个关于血型的分类对象呢？\n",
    "\n",
    "一种有效的方法就是明确指定 `dtype=\"category\"`"
   ]
  },
  {
   "cell_type": "code",
   "execution_count": 2,
   "metadata": {
    "ExecuteTime": {
     "end_time": "2018-07-09T12:59:16.742056Z",
     "start_time": "2018-07-09T12:59:16.685907Z"
    }
   },
   "outputs": [
    {
     "data": {
      "text/plain": [
       "name\n",
       "Tom        A\n",
       "Bob       AB\n",
       "Mary     NaN\n",
       "James     AB\n",
       "Andy       O\n",
       "Alice      B\n",
       "Name: blood_type, dtype: category\n",
       "Categories (4, object): [A, AB, B, O]"
      ]
     },
     "execution_count": 2,
     "metadata": {},
     "output_type": "execute_result"
    }
   ],
   "source": [
    "index = pd.Index(data=[\"Tom\", \"Bob\", \"Mary\", \"James\", \"Andy\", \"Alice\"], name=\"name\")\n",
    "\n",
    "user_info = pd.Series(data=[\"A\", \"AB\", np.nan, \"AB\", \"O\", \"B\"], index=index, name=\"blood_type\", dtype=\"category\")\n",
    "user_info"
   ]
  },
  {
   "cell_type": "markdown",
   "metadata": {},
   "source": [
    "我们也可以使用 `pd.Categorical` 来构建分类数据。"
   ]
  },
  {
   "cell_type": "code",
   "execution_count": 3,
   "metadata": {
    "ExecuteTime": {
     "end_time": "2018-07-09T12:59:16.767122Z",
     "start_time": "2018-07-09T12:59:16.745064Z"
    }
   },
   "outputs": [
    {
     "data": {
      "text/plain": [
       "[A, AB, NaN, AB, O, B]\n",
       "Categories (4, object): [A, AB, B, O]"
      ]
     },
     "execution_count": 3,
     "metadata": {},
     "output_type": "execute_result"
    }
   ],
   "source": [
    "pd.Categorical([\"A\", \"AB\", np.nan, \"AB\", \"O\", \"B\"])"
   ]
  },
  {
   "cell_type": "markdown",
   "metadata": {
    "ExecuteTime": {
     "end_time": "2018-06-24T09:10:19.115347Z",
     "start_time": "2018-06-24T09:10:19.109331Z"
    }
   },
   "source": [
    "当然了，我们也可以自己制定类别数据所有可能的取值，假定我们认为血型只有 A、B 以及 AB 这三类，那么我们可以这样操作。"
   ]
  },
  {
   "cell_type": "code",
   "execution_count": 4,
   "metadata": {
    "ExecuteTime": {
     "end_time": "2018-07-09T12:59:16.794194Z",
     "start_time": "2018-07-09T12:59:16.772138Z"
    }
   },
   "outputs": [
    {
     "data": {
      "text/plain": [
       "[A, AB, NaN, AB, NaN, B]\n",
       "Categories (3, object): [A, B, AB]"
      ]
     },
     "execution_count": 4,
     "metadata": {},
     "output_type": "execute_result"
    }
   ],
   "source": [
    "pd.Categorical([\"A\", \"AB\", np.nan, \"AB\", \"O\", \"B\"], categories=[\"A\", \"B\", \"AB\"])"
   ]
  },
  {
   "cell_type": "markdown",
   "metadata": {},
   "source": [
    "除了上面这些方法外，经常遇到的情况是已经创建了一个 `Series`，如何将它转为分类数据呢？来看看 `astype` 用法吧。"
   ]
  },
  {
   "cell_type": "code",
   "execution_count": 5,
   "metadata": {
    "ExecuteTime": {
     "end_time": "2018-07-09T12:59:16.832296Z",
     "start_time": "2018-07-09T12:59:16.798205Z"
    }
   },
   "outputs": [
    {
     "data": {
      "text/plain": [
       "name\n",
       "Tom        A\n",
       "Bob       AB\n",
       "Mary     NaN\n",
       "James     AB\n",
       "Andy       O\n",
       "Alice      B\n",
       "Name: blood_type, dtype: category\n",
       "Categories (4, object): [A, AB, B, O]"
      ]
     },
     "execution_count": 5,
     "metadata": {},
     "output_type": "execute_result"
    }
   ],
   "source": [
    "user_info = pd.Series(data=[\"A\", \"AB\", np.nan, \"AB\", \"O\", \"B\"], index=index, name=\"blood_type\")\n",
    "user_info = user_info.astype(\"category\")\n",
    "user_info"
   ]
  },
  {
   "cell_type": "markdown",
   "metadata": {},
   "source": [
    "此外，一些其他的方法返回的结果也是分类数据。如 `cut` 、 `qcut`。具体可以见 [Pandas基本功能详解中的离散化](02-Pandas基本功能详解.ipynb#离散化)部分。"
   ]
  },
  {
   "cell_type": "markdown",
   "metadata": {},
   "source": [
    "## 常用操作\n",
    "\n",
    "可以对分类数据使用 `.describe()` 方法，它得到的结果与 `string`类型的数据相同。"
   ]
  },
  {
   "cell_type": "code",
   "execution_count": 6,
   "metadata": {
    "ExecuteTime": {
     "end_time": "2018-07-09T12:59:16.886440Z",
     "start_time": "2018-07-09T12:59:16.838312Z"
    }
   },
   "outputs": [
    {
     "data": {
      "text/plain": [
       "count      5\n",
       "unique     4\n",
       "top       AB\n",
       "freq       2\n",
       "Name: blood_type, dtype: object"
      ]
     },
     "execution_count": 6,
     "metadata": {},
     "output_type": "execute_result"
    }
   ],
   "source": [
    "user_info.describe()"
   ]
  },
  {
   "cell_type": "markdown",
   "metadata": {},
   "source": [
    "解释下每个指标的含义，`count` 表示非空的数据有5条，`unique` 表示去重后的非空数据有4条，`top` 表示出现次数最多的值为 `AB`，`freq` 表示出现次数最多的值的次数为2次。"
   ]
  },
  {
   "cell_type": "markdown",
   "metadata": {},
   "source": [
    "我们可以使用 `.cat.categories` 来获取分类数据所有可能的取值。"
   ]
  },
  {
   "cell_type": "code",
   "execution_count": 7,
   "metadata": {
    "ExecuteTime": {
     "end_time": "2018-07-09T12:59:16.932563Z",
     "start_time": "2018-07-09T12:59:16.897469Z"
    }
   },
   "outputs": [
    {
     "data": {
      "text/plain": [
       "Index(['A', 'AB', 'B', 'O'], dtype='object')"
      ]
     },
     "execution_count": 7,
     "metadata": {},
     "output_type": "execute_result"
    }
   ],
   "source": [
    "user_info.cat.categories"
   ]
  },
  {
   "cell_type": "markdown",
   "metadata": {},
   "source": [
    "你可能会发现，假如你将分类名称写错了，如何修改呢？难道还需要重新构建一次么？\n",
    "\n",
    "不不不，不需要这么麻烦，你可以直接使用 `.cat.rename_categories` 方法来重命名分类名称。"
   ]
  },
  {
   "cell_type": "code",
   "execution_count": 8,
   "metadata": {
    "ExecuteTime": {
     "end_time": "2018-07-09T12:59:16.963645Z",
     "start_time": "2018-07-09T12:59:16.936574Z"
    }
   },
   "outputs": [
    {
     "data": {
      "text/plain": [
       "name\n",
       "Tom       A+\n",
       "Bob      AB+\n",
       "Mary     NaN\n",
       "James    AB+\n",
       "Andy      O+\n",
       "Alice     B+\n",
       "dtype: category\n",
       "Categories (4, object): [A+, AB+, B+, O+]"
      ]
     },
     "execution_count": 8,
     "metadata": {},
     "output_type": "execute_result"
    }
   ],
   "source": [
    "user_info.cat.rename_categories([\"A+\", \"AB+\", \"B+\", \"O+\"])"
   ]
  },
  {
   "cell_type": "markdown",
   "metadata": {},
   "source": [
    "类似的，除了重命名，也会遇到添加类别，删除分类的操作，这些都可以通过 `.cat.add_categories` ，`.cat.remove_categories` 来实现。\n",
    "\n",
    "分类数据也是支持使用 `value_counts` 方法来查看数据分布的。"
   ]
  },
  {
   "cell_type": "code",
   "execution_count": 9,
   "metadata": {
    "ExecuteTime": {
     "end_time": "2018-07-09T12:59:16.996733Z",
     "start_time": "2018-07-09T12:59:16.967656Z"
    }
   },
   "outputs": [
    {
     "data": {
      "text/plain": [
       "AB    2\n",
       "O     1\n",
       "B     1\n",
       "A     1\n",
       "Name: blood_type, dtype: int64"
      ]
     },
     "execution_count": 9,
     "metadata": {},
     "output_type": "execute_result"
    }
   ],
   "source": [
    "user_info.value_counts()"
   ]
  },
  {
   "cell_type": "markdown",
   "metadata": {},
   "source": [
    "分类数据也是支持使用 `.str` 属性来访问的。例如想要查看下是否包含字母 \"A\"，可以使用 `.srt.contains` 方法。"
   ]
  },
  {
   "cell_type": "code",
   "execution_count": 10,
   "metadata": {
    "ExecuteTime": {
     "end_time": "2018-07-09T12:59:17.048872Z",
     "start_time": "2018-07-09T12:59:17.002749Z"
    }
   },
   "outputs": [
    {
     "data": {
      "text/plain": [
       "name\n",
       "Tom       True\n",
       "Bob       True\n",
       "Mary       NaN\n",
       "James     True\n",
       "Andy     False\n",
       "Alice    False\n",
       "Name: blood_type, dtype: object"
      ]
     },
     "execution_count": 10,
     "metadata": {},
     "output_type": "execute_result"
    }
   ],
   "source": [
    "user_info.str.contains(\"A\")"
   ]
  },
  {
   "cell_type": "markdown",
   "metadata": {},
   "source": [
    "跟多关于 `.str` 的详细介绍可以见 [Pandas文本数据处理](04-Pandas文本数据处理.ipynb)。 \n",
    "\n",
    "有时候会遇到合并数据的情况，这时候可以借助 `pd.concat` 来完成。"
   ]
  },
  {
   "cell_type": "code",
   "execution_count": 11,
   "metadata": {
    "ExecuteTime": {
     "end_time": "2018-07-09T12:59:17.134098Z",
     "start_time": "2018-07-09T12:59:17.058899Z"
    }
   },
   "outputs": [
    {
     "data": {
      "text/plain": [
       "0     A\n",
       "1    AB\n",
       "0     B\n",
       "1     O\n",
       "dtype: object"
      ]
     },
     "execution_count": 11,
     "metadata": {},
     "output_type": "execute_result"
    }
   ],
   "source": [
    "blood_type1 = pd.Categorical([\"A\", \"AB\"])\n",
    "blood_type2 = pd.Categorical([\"B\", \"O\"])\n",
    "\n",
    "pd.concat([pd.Series(blood_type1), pd.Series(blood_type2)])"
   ]
  },
  {
   "cell_type": "markdown",
   "metadata": {},
   "source": [
    "可以发现，分类数据经过 `pd.concat` 合并后类型转为了 `object` 类型。如果想要保持分类类型的话，可以借助 `union_categoricals` 来完成。"
   ]
  },
  {
   "cell_type": "code",
   "execution_count": 12,
   "metadata": {
    "ExecuteTime": {
     "end_time": "2018-07-09T12:59:17.195261Z",
     "start_time": "2018-07-09T12:59:17.137109Z"
    }
   },
   "outputs": [
    {
     "data": {
      "text/plain": [
       "[A, AB, B, O]\n",
       "Categories (4, object): [A, AB, B, O]"
      ]
     },
     "execution_count": 12,
     "metadata": {},
     "output_type": "execute_result"
    }
   ],
   "source": [
    "from pandas.api.types import union_categoricals\n",
    "\n",
    "union_categoricals([blood_type1, blood_type2])"
   ]
  },
  {
   "cell_type": "markdown",
   "metadata": {},
   "source": [
    "## 内存使用量的陷阱\n",
    "\n",
    "`Categorical` 的内存使用量是与分类数乘以数据长度成正比，`object` 类型的数据是一个常数乘以数据的长度。"
   ]
  },
  {
   "cell_type": "code",
   "execution_count": 13,
   "metadata": {
    "ExecuteTime": {
     "end_time": "2018-07-09T12:59:17.275477Z",
     "start_time": "2018-07-09T12:59:17.199272Z"
    }
   },
   "outputs": [
    {
     "data": {
      "text/plain": [
       "16000"
      ]
     },
     "execution_count": 13,
     "metadata": {},
     "output_type": "execute_result"
    }
   ],
   "source": [
    "blood_type = pd.Series([\"AB\",\"O\"]*1000)\n",
    "blood_type.nbytes"
   ]
  },
  {
   "cell_type": "code",
   "execution_count": 14,
   "metadata": {
    "ExecuteTime": {
     "end_time": "2018-07-09T12:59:17.303550Z",
     "start_time": "2018-07-09T12:59:17.281491Z"
    }
   },
   "outputs": [
    {
     "data": {
      "text/plain": [
       "2016"
      ]
     },
     "execution_count": 14,
     "metadata": {},
     "output_type": "execute_result"
    }
   ],
   "source": [
    "blood_type.astype(\"category\").nbytes"
   ]
  },
  {
   "cell_type": "markdown",
   "metadata": {},
   "source": [
    "对比下，是不是发现分类数据非常节省内存。但是当类别的数量接近数据的长度，那么 `Categorical` 将使用与等效的 `object` 表示几乎相同或更多的内存。"
   ]
  },
  {
   "cell_type": "code",
   "execution_count": 15,
   "metadata": {
    "ExecuteTime": {
     "end_time": "2018-07-09T12:59:17.354685Z",
     "start_time": "2018-07-09T12:59:17.307560Z"
    }
   },
   "outputs": [
    {
     "data": {
      "text/plain": [
       "16000"
      ]
     },
     "execution_count": 15,
     "metadata": {},
     "output_type": "execute_result"
    }
   ],
   "source": [
    "blood_type = pd.Series(['AB%04d' % i for i in range(2000)])\n",
    "blood_type.nbytes"
   ]
  },
  {
   "cell_type": "code",
   "execution_count": 16,
   "metadata": {
    "ExecuteTime": {
     "end_time": "2018-07-09T12:59:17.385768Z",
     "start_time": "2018-07-09T12:59:17.357693Z"
    }
   },
   "outputs": [
    {
     "data": {
      "text/plain": [
       "20000"
      ]
     },
     "execution_count": 16,
     "metadata": {},
     "output_type": "execute_result"
    }
   ],
   "source": [
    "blood_type.astype(\"category\").nbytes"
   ]
  },
  {
   "cell_type": "markdown",
   "metadata": {},
   "source": [
    "------------\n",
    "\n",
    "\n",
    "想要学习更多关于人工智能的知识，请关注公众号：**AI派**\n",
    "\n",
    "![qrcode_for_gh_60cef389e81c_258.jpg](http://www.naodongopen.com/wp-content/uploads/2018/06/qrcode_for_gh_60cef389e81c_258.jpg)\n",
    "\n",
    "这里我将整篇文章的内容整理成了pdf，想要pdf文件的可以在公众号后台回复关键字：**pandas05**。"
   ]
  }
 ],
 "metadata": {
  "kernelspec": {
   "display_name": "Python 3",
   "language": "python",
   "name": "python3"
  },
  "language_info": {
   "codemirror_mode": {
    "name": "ipython",
    "version": 3
   },
   "file_extension": ".py",
   "mimetype": "text/x-python",
   "name": "python",
   "nbconvert_exporter": "python",
   "pygments_lexer": "ipython3",
   "version": "3.6.4"
  }
 },
 "nbformat": 4,
 "nbformat_minor": 2
}
